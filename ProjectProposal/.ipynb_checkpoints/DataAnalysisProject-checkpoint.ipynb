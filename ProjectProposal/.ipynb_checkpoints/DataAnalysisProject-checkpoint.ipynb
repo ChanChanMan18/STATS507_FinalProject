{
 "cells": [
  {
   "cell_type": "markdown",
   "id": "da22fb31-c7d4-45d1-a61b-8e9d3fcaed92",
   "metadata": {},
   "source": [
    "# Data Analysis Project Proposal\n",
    "\n",
    "This notebook will be used to give a sense of the data analysis project proposal. I will be playing with different libraries to illustrate what I will do for this project; in particular, I will test a pre-trained image Transformer plus text Transformer model to determine how well this model performs on optical text when different types of noise are added to the images."
   ]
  },
  {
   "cell_type": "code",
   "execution_count": 1,
   "id": "b8334ca5-3b22-4966-9421-4869d8e61c3c",
   "metadata": {},
   "outputs": [],
   "source": [
    "import pandas as pd\n",
    "import numpy as np\n",
    "from PIL import Image, ImageDraw\n",
    "from paddleocr import PaddleOCR,draw_ocr\n",
    "import cv2"
   ]
  },
  {
   "cell_type": "markdown",
   "id": "5943c302-e1f9-4be3-be59-cb2bf897a1aa",
   "metadata": {},
   "source": [
    "## Reading in Initial Image"
   ]
  },
  {
   "cell_type": "code",
   "execution_count": 3,
   "id": "9147515a-7986-4aae-b2a0-8118bb50410b",
   "metadata": {},
   "outputs": [],
   "source": [
    "# Read image\n",
    "CandTimg = Image.open('CandT.JPG')"
   ]
  },
  {
   "cell_type": "markdown",
   "id": "50072740-96ba-41f9-b6e4-218568f87761",
   "metadata": {},
   "source": [
    "## Changing Image to Grayscale"
   ]
  },
  {
   "cell_type": "code",
   "execution_count": 5,
   "id": "2dfa0957-9bb1-46e7-86b4-849bbf7b56ba",
   "metadata": {},
   "outputs": [],
   "source": [
    "CandTimg_gray = CandTimg.convert(\"L\")\n",
    "\n",
    "# Resizing the image\n",
    "CandTimg_gray_resize = CandTimg_gray.resize((2048, 1536))\n",
    "\n",
    "# Saving the resized image\n",
    "CandTimg_gray_resize.save(\"CandTimg_gray_resize.jpg\")"
   ]
  },
  {
   "cell_type": "code",
   "execution_count": 7,
   "id": "49285737-97e3-4ad3-bd38-54cc1069fafd",
   "metadata": {},
   "outputs": [
    {
     "data": {
      "text/plain": [
       "(2048, 1536)"
      ]
     },
     "execution_count": 7,
     "metadata": {},
     "output_type": "execute_result"
    }
   ],
   "source": [
    "CandTimg_gray_resize.size"
   ]
  },
  {
   "cell_type": "markdown",
   "id": "3e528cde-5b7e-401f-a907-fe23b8ab0869",
   "metadata": {},
   "source": [
    "## Adding Gaussian Noise"
   ]
  },
  {
   "cell_type": "code",
   "execution_count": 9,
   "id": "f557075b-cef4-4126-bb19-952bba5f4db0",
   "metadata": {},
   "outputs": [],
   "source": [
    "def gauss_noise(image, variance):\n",
    "  mean = 0\n",
    "  var = variance\n",
    "  sigma = var**0.5\n",
    "  gauss = np.random.normal(mean, sigma, image.size)\n",
    "  gauss = gauss.reshape(image.size)\n",
    "  noisy = image + gauss.T\n",
    "  return noisy"
   ]
  },
  {
   "cell_type": "code",
   "execution_count": 11,
   "id": "81734f52-30f9-4504-b72c-8f1d9af3bec4",
   "metadata": {},
   "outputs": [
    {
     "ename": "AttributeError",
     "evalue": "'numpy.ndarray' object has no attribute 'show'",
     "output_type": "error",
     "traceback": [
      "\u001b[0;31m---------------------------------------------------------------------------\u001b[0m",
      "\u001b[0;31mAttributeError\u001b[0m                            Traceback (most recent call last)",
      "Cell \u001b[0;32mIn[11], line 2\u001b[0m\n\u001b[1;32m      1\u001b[0m gaussNoise_CandT \u001b[38;5;241m=\u001b[39m gauss_noise(CandTimg_gray_resize, \u001b[38;5;241m5000\u001b[39m)\n\u001b[0;32m----> 2\u001b[0m gaussNoise_CandT\u001b[38;5;241m.\u001b[39mshow()\n\u001b[1;32m      3\u001b[0m cv2\u001b[38;5;241m.\u001b[39mimwrite(\u001b[38;5;124m'\u001b[39m\u001b[38;5;124mCandT_Gaussian.jpg\u001b[39m\u001b[38;5;124m'\u001b[39m, gaussNoise_CandT)\n",
      "\u001b[0;31mAttributeError\u001b[0m: 'numpy.ndarray' object has no attribute 'show'"
     ]
    }
   ],
   "source": [
    "gaussNoise_CandT = gauss_noise(CandTimg_gray_resize, 5000)\n",
    "gaussNoise_CandT.show()\n",
    "cv2.imwrite('CandT_Gaussian.jpg', gaussNoise_CandT)"
   ]
  },
  {
   "cell_type": "markdown",
   "id": "a8baa400-af64-4671-bba1-340a2a3a4217",
   "metadata": {},
   "source": [
    "## Adding Poisson Noise"
   ]
  },
  {
   "cell_type": "code",
   "execution_count": 15,
   "id": "b74daa9e-ba0f-425d-a557-90a28e3a49d0",
   "metadata": {},
   "outputs": [],
   "source": [
    "def poisson_noise(image):\n",
    "    my_img_array = np.array(image)\n",
    "    float_array = my_img_array.astype(np.float32)\n",
    "    PEAK = 0.00007\n",
    "    noisy = np.random.poisson(float_array * 255.0 * PEAK) / (255.0 * PEAK)\n",
    "    return noisy"
   ]
  },
  {
   "cell_type": "code",
   "execution_count": 17,
   "id": "b40c8b91-c750-4c3e-8983-8f5614f1cccc",
   "metadata": {},
   "outputs": [
    {
     "data": {
      "text/plain": [
       "True"
      ]
     },
     "execution_count": 17,
     "metadata": {},
     "output_type": "execute_result"
    }
   ],
   "source": [
    "poisNoise_CandT = poisson_noise(CandTimg_gray_resize)\n",
    "cv2.imwrite('CandT_Poisson.jpg', poisNoise_CandT)"
   ]
  },
  {
   "cell_type": "markdown",
   "id": "cd1ec359-374a-4fda-84ac-6bd661c58269",
   "metadata": {},
   "source": [
    "## Using Model to Read Text"
   ]
  },
  {
   "cell_type": "code",
   "execution_count": 19,
   "id": "15e8854c-1ca9-4e34-9ee0-7198e4a3cd95",
   "metadata": {},
   "outputs": [
    {
     "name": "stdout",
     "output_type": "stream",
     "text": [
      "[2024/11/25 16:19:56] ppocr DEBUG: Namespace(help='==SUPPRESS==', use_gpu=False, use_xpu=False, use_npu=False, use_mlu=False, ir_optim=True, use_tensorrt=False, min_subgraph_size=15, precision='fp32', gpu_mem=500, gpu_id=0, image_dir=None, page_num=0, det_algorithm='DB', det_model_dir='/Users/chandle/.paddleocr/whl/det/en/en_PP-OCRv3_det_infer', det_limit_side_len=960, det_limit_type='max', det_box_type='quad', det_db_thresh=0.3, det_db_box_thresh=0.6, det_db_unclip_ratio=1.5, max_batch_size=10, use_dilation=False, det_db_score_mode='fast', det_east_score_thresh=0.8, det_east_cover_thresh=0.1, det_east_nms_thresh=0.2, det_sast_score_thresh=0.5, det_sast_nms_thresh=0.2, det_pse_thresh=0, det_pse_box_thresh=0.85, det_pse_min_area=16, det_pse_scale=1, scales=[8, 16, 32], alpha=1.0, beta=1.0, fourier_degree=5, rec_algorithm='SVTR_LCNet', rec_model_dir='/Users/chandle/.paddleocr/whl/rec/en/en_PP-OCRv4_rec_infer', rec_image_inverse=True, rec_image_shape='3, 48, 320', rec_batch_num=6, max_text_length=25, rec_char_dict_path='/opt/anaconda3/lib/python3.12/site-packages/paddleocr/ppocr/utils/en_dict.txt', use_space_char=True, vis_font_path='./doc/fonts/simfang.ttf', drop_score=0.5, e2e_algorithm='PGNet', e2e_model_dir=None, e2e_limit_side_len=768, e2e_limit_type='max', e2e_pgnet_score_thresh=0.5, e2e_char_dict_path='./ppocr/utils/ic15_dict.txt', e2e_pgnet_valid_set='totaltext', e2e_pgnet_mode='fast', use_angle_cls=True, cls_model_dir='/Users/chandle/.paddleocr/whl/cls/ch_ppocr_mobile_v2.0_cls_infer', cls_image_shape='3, 48, 192', label_list=['0', '180'], cls_batch_num=6, cls_thresh=0.9, enable_mkldnn=False, cpu_threads=10, use_pdserving=False, warmup=False, sr_model_dir=None, sr_image_shape='3, 32, 128', sr_batch_num=1, draw_img_save_dir='./inference_results', save_crop_res=False, crop_res_save_dir='./output', use_mp=False, total_process_num=1, process_id=0, benchmark=False, save_log_path='./log_output/', show_log=True, use_onnx=False, return_word_box=False, output='./output', table_max_len=488, table_algorithm='TableAttn', table_model_dir=None, merge_no_span_structure=True, table_char_dict_path=None, formula_algorithm='LaTeXOCR', formula_model_dir=None, formula_char_dict_path=None, formula_batch_num=1, layout_model_dir=None, layout_dict_path=None, layout_score_threshold=0.5, layout_nms_threshold=0.5, kie_algorithm='LayoutXLM', ser_model_dir=None, re_model_dir=None, use_visual_backbone=True, ser_dict_path='../train_data/XFUND/class_list_xfun.txt', ocr_order_method=None, mode='structure', image_orientation=False, layout=True, table=True, formula=False, ocr=True, recovery=False, recovery_to_markdown=False, use_pdf2docx_api=False, invert=False, binarize=False, alphacolor=(255, 255, 255), lang='en', det=True, rec=True, type='ocr', savefile=False, ocr_version='PP-OCRv4', structure_version='PP-StructureV2')\n",
      "[2024/11/25 16:19:56] ppocr DEBUG: dt_boxes num : 2, elapsed : 0.06747174263000488\n",
      "[2024/11/25 16:19:56] ppocr DEBUG: cls num  : 2, elapsed : 0.010298967361450195\n",
      "[2024/11/25 16:19:56] ppocr DEBUG: rec_res num  : 2, elapsed : 0.1475069522857666\n"
     ]
    }
   ],
   "source": [
    "ocr = PaddleOCR(use_angle_cls=True, lang='en') # need to run only once to download and load model into memory\n",
    "img_path = 'brothersGonnaWorkIt.jpg'\n",
    "result = ocr.ocr(img_path, cls=True)\n"
   ]
  },
  {
   "cell_type": "code",
   "execution_count": 21,
   "id": "af1ad20d-bb3f-4c50-ba2b-a3216ad1a6d2",
   "metadata": {},
   "outputs": [
    {
     "name": "stdout",
     "output_type": "stream",
     "text": [
      "[[[[93.0, 97.0], [1010.0, 89.0], [1011.0, 219.0], [94.0, 228.0]], ('The brothers', 0.9577944278717041)], [[[1158.0, 94.0], [2258.0, 23.0], [2266.0, 153.0], [1166.0, 225.0]], ('qonna work it out', 0.9367910623550415)]]\n"
     ]
    }
   ],
   "source": [
    "print(result[0])"
   ]
  },
  {
   "cell_type": "code",
   "execution_count": 21,
   "id": "e32b663c-05e8-483f-851c-9ab9f5409e8f",
   "metadata": {},
   "outputs": [],
   "source": [
    "thisImage = Image.open(img_path) \n",
    "draw = ImageDraw.Draw(thisImage)  \n",
    "for i, box in enumerate(result[0]):\n",
    "    box = np.array(box[0]).astype(np.int32)\n",
    "    xmin = min(box[:, 0])\n",
    "    ymin = min(box[:, 1])\n",
    "    xmax = max(box[:, 0])\n",
    "    ymax = max(box[:, 1])\n",
    "    draw.rectangle((xmin, ymin, xmax, ymax), outline=\"red\", width=3)\n",
    "    # draw.text((xmin, ymin), f\"{i}\", fill=\"black\")\n",
    "\n",
    "thisImage = thisImage.resize((2366, 409))\n",
    "thisImage.show() "
   ]
  },
  {
   "cell_type": "markdown",
   "id": "0fe770a8-de60-4c87-af81-7a5a92f52f29",
   "metadata": {},
   "source": [
    "## Using Model to Read Text (Grayscale)"
   ]
  },
  {
   "cell_type": "markdown",
   "id": "a0765bd0-7cec-456f-bce4-ddaa7142fc5f",
   "metadata": {},
   "source": [
    "Checking to see if model still works on grayscale images..."
   ]
  },
  {
   "cell_type": "code",
   "execution_count": 57,
   "id": "ab3a0a90-c40c-4689-99ff-9f13cdf9ea68",
   "metadata": {},
   "outputs": [],
   "source": [
    "brothersWorkItimg = Image.open('brothersGonnaWorkIt.JPG')\n",
    "brothersWorkItimg_gray = brothersWorkItimg.convert(\"L\")\n",
    "\n",
    "# Resizing the image\n",
    "brothersWorkItimg_gray_resize = brothersWorkItimg_gray.resize((2366, 409))\n",
    "\n",
    "# Saving the resized image\n",
    "brothersWorkItimg_gray_resize.save(\"brothersWorkItimg_gray_resize.jpg\")"
   ]
  },
  {
   "cell_type": "code",
   "execution_count": 59,
   "id": "1904b04c-ab93-41fb-a359-3f2a2c098bcd",
   "metadata": {},
   "outputs": [
    {
     "name": "stdout",
     "output_type": "stream",
     "text": [
      "[2024/11/25 00:07:51] ppocr DEBUG: dt_boxes num : 2, elapsed : 0.08511614799499512\n",
      "[2024/11/25 00:07:51] ppocr DEBUG: cls num  : 2, elapsed : 0.007264137268066406\n",
      "[2024/11/25 00:07:52] ppocr DEBUG: rec_res num  : 2, elapsed : 0.14524221420288086\n"
     ]
    }
   ],
   "source": [
    "img_path_gray = \"brothersWorkItimg_gray_resize.jpg\"\n",
    "brothersResultGray = ocr.ocr(img_path_gray, cls=True)"
   ]
  },
  {
   "cell_type": "code",
   "execution_count": 61,
   "id": "0fa5da84-31be-4d96-82dc-a10fb1c05528",
   "metadata": {},
   "outputs": [
    {
     "name": "stdout",
     "output_type": "stream",
     "text": [
      "[[[[93.0, 97.0], [1010.0, 89.0], [1011.0, 219.0], [94.0, 228.0]], ('The brothers', 0.948350727558136)], [[[1158.0, 97.0], [2257.0, 23.0], [2265.0, 153.0], [1166.0, 227.0]], ('qonna work it out', 0.9660139679908752)]]\n"
     ]
    }
   ],
   "source": [
    "print(brothersResultGray[0])"
   ]
  },
  {
   "cell_type": "code",
   "execution_count": 67,
   "id": "7e23c3cc-dac6-4794-8a80-9abae7d8a391",
   "metadata": {},
   "outputs": [],
   "source": [
    "thisImage_gray = Image.open(img_path_gray) \n",
    "draw = ImageDraw.Draw(thisImage_gray)  \n",
    "for i, box in enumerate(brothersResultGray[0]):\n",
    "    box = np.array(box[0]).astype(np.int32)\n",
    "    xmin = min(box[:, 0])\n",
    "    ymin = min(box[:, 1])\n",
    "    xmax = max(box[:, 0])\n",
    "    ymax = max(box[:, 1])\n",
    "    draw.rectangle((xmin, ymin, xmax, ymax), outline=\"white\", width=3)\n",
    "    #draw.text((xmin, ymin), f\"{i}\", fill=\"black\")\n",
    "\n",
    "thisImage_gray = thisImage_gray.resize((2366, 409))\n",
    "thisImage_gray.show() "
   ]
  },
  {
   "cell_type": "markdown",
   "id": "aac9fe4e-fe24-4e84-b2fe-78ec2738891d",
   "metadata": {},
   "source": [
    "## Adding Gaussian Noise to Grayscale Image"
   ]
  },
  {
   "cell_type": "code",
   "execution_count": 165,
   "id": "3255958d-acee-48c6-9ba4-46bf87e78cf3",
   "metadata": {},
   "outputs": [
    {
     "data": {
      "text/plain": [
       "True"
      ]
     },
     "execution_count": 165,
     "metadata": {},
     "output_type": "execute_result"
    }
   ],
   "source": [
    "brothersGrayGaussian = gauss_noise(brothersWorkItimg_gray_resize, 20000)\n",
    "cv2.imwrite('brothersWorkIt_Gray_Gaussian.jpg', brothersGrayGaussian)"
   ]
  },
  {
   "cell_type": "code",
   "execution_count": 167,
   "id": "44d61c61-40d0-40c4-b112-53d8ee8304c8",
   "metadata": {},
   "outputs": [
    {
     "name": "stdout",
     "output_type": "stream",
     "text": [
      "[2024/11/25 00:17:10] ppocr DEBUG: dt_boxes num : 1, elapsed : 0.08180928230285645\n",
      "[2024/11/25 00:17:10] ppocr DEBUG: cls num  : 1, elapsed : 0.004158973693847656\n",
      "[2024/11/25 00:17:10] ppocr DEBUG: rec_res num  : 1, elapsed : 0.06448101997375488\n"
     ]
    }
   ],
   "source": [
    "img_path_gray_gauss = \"brothersWorkIt_Gray_Gaussian.jpg\"\n",
    "brothersResultGrayGauss = ocr.ocr(img_path_gray_gauss, cls=True)"
   ]
  },
  {
   "cell_type": "code",
   "execution_count": 169,
   "id": "ccee9d48-33a5-4cc4-be62-61793a66f94a",
   "metadata": {},
   "outputs": [
    {
     "name": "stdout",
     "output_type": "stream",
     "text": [
      "[[[[118.0, 100.0], [1043.0, 100.0], [1043.0, 230.0], [118.0, 230.0]], ('Wne orothe.', 0.5313426852226257)]]\n"
     ]
    }
   ],
   "source": [
    "print(brothersResultGrayGauss[0])"
   ]
  },
  {
   "cell_type": "code",
   "execution_count": 171,
   "id": "56ce8602-5581-45fb-b852-5b79be1a72d4",
   "metadata": {},
   "outputs": [],
   "source": [
    "thisImage_gray_gauss = Image.open(img_path_gray_gauss) \n",
    "draw = ImageDraw.Draw(thisImage_gray_gauss)  \n",
    "for i, box in enumerate(brothersResultGrayGauss[0]):\n",
    "    box = np.array(box[0]).astype(np.int32)\n",
    "    xmin = min(box[:, 0])\n",
    "    ymin = min(box[:, 1])\n",
    "    xmax = max(box[:, 0])\n",
    "    ymax = max(box[:, 1])\n",
    "    draw.rectangle((xmin, ymin, xmax, ymax), outline=\"white\", width=3)\n",
    "    draw.text((xmin, ymin), f\"{i}\", fill=\"black\")\n",
    "\n",
    "thisImage_gray_gauss = thisImage_gray_gauss.resize((2366, 409))\n",
    "thisImage_gray_gauss.show() "
   ]
  }
 ],
 "metadata": {
  "kernelspec": {
   "display_name": "Python 3 (ipykernel)",
   "language": "python",
   "name": "python3"
  },
  "language_info": {
   "codemirror_mode": {
    "name": "ipython",
    "version": 3
   },
   "file_extension": ".py",
   "mimetype": "text/x-python",
   "name": "python",
   "nbconvert_exporter": "python",
   "pygments_lexer": "ipython3",
   "version": "3.12.4"
  }
 },
 "nbformat": 4,
 "nbformat_minor": 5
}
